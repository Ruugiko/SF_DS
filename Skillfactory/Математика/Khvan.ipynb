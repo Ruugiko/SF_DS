{
 "cells": [
  {
   "cell_type": "code",
   "execution_count": 1,
   "id": "3f2c809d",
   "metadata": {},
   "outputs": [],
   "source": [
    "import numpy as np \n",
    "import pandas as pd \n",
    "import seaborn as sns \n",
    "import matplotlib.pyplot as plt \n",
    "%matplotlib inline"
   ]
  },
  {
   "cell_type": "code",
   "execution_count": null,
   "id": "c64314fe",
   "metadata": {},
   "outputs": [],
   "source": [
    "#откроем данные\n",
    "data = pd.read_csv('unconv.csv')\n",
    "data.head()"
   ]
  },
  {
   "cell_type": "markdown",
   "id": "1a7ff126",
   "metadata": {},
   "source": [
    "## Задание 2.1"
   ]
  },
  {
   "cell_type": "code",
   "execution_count": null,
   "id": "d276bbb5",
   "metadata": {},
   "outputs": [],
   "source": [
    "#Постройте корреляционную матрицу факторов, включив в неё целевой признак."
   ]
  },
  {
   "cell_type": "code",
   "execution_count": null,
   "id": "0c0da888",
   "metadata": {},
   "outputs": [],
   "source": [
    "#Вычислите ранг полученной матрицы корреляций"
   ]
  },
  {
   "cell_type": "code",
   "execution_count": null,
   "id": "72eb735a",
   "metadata": {},
   "outputs": [],
   "source": [
    "#Вычислите определитель матрицы корреляций"
   ]
  },
  {
   "cell_type": "markdown",
   "id": "b13b0be3",
   "metadata": {},
   "source": [
    "## Задание 2.2"
   ]
  },
  {
   "cell_type": "code",
   "execution_count": null,
   "id": "97e6eb0a",
   "metadata": {},
   "outputs": [],
   "source": [
    "#Создайте матрицу наблюдений. Обозначьте её за X, а вектор правильных ответов — за y ."
   ]
  },
  {
   "cell_type": "code",
   "execution_count": null,
   "id": "656d1066",
   "metadata": {},
   "outputs": [],
   "source": [
    "#Постройте модель линейной регрессии по методу наименьших квадратов. \n",
    "#Для этого используйте матричную формулу NumPy. \n",
    "#В качестве ответа укажите полученные оценки коэффициентов модели"
   ]
  },
  {
   "cell_type": "markdown",
   "id": "75f5e369",
   "metadata": {},
   "source": [
    "## Задание 2.3"
   ]
  },
  {
   "cell_type": "code",
   "execution_count": null,
   "id": "706f0778",
   "metadata": {},
   "outputs": [],
   "source": [
    "#Постройте прогноз выработки газа для скважины с параметрами, указанными ниже.\n",
    "#Чему равна абсолютная ошибка построенного вами прогноза для предложенной скважины ?(в миллионах кубических футов в день)."
   ]
  },
  {
   "cell_type": "markdown",
   "id": "e6567af4",
   "metadata": {},
   "source": [
    "Метрика MAPE:"
   ]
  },
  {
   "cell_type": "markdown",
   "id": "476e4ba5",
   "metadata": {},
   "source": [
    "![](https://miro.medium.com/max/596/1*vmIM1jePXsDxPpgWEQ35Lg.png)"
   ]
  },
  {
   "cell_type": "code",
   "execution_count": null,
   "id": "4355c558",
   "metadata": {},
   "outputs": [],
   "source": [
    "#Постройте прогноз выработки газа для всех скважин из обучающего набора данных. \n",
    "#Чему равно значение метрики MAPE вашей модели? "
   ]
  },
  {
   "cell_type": "markdown",
   "id": "a8f54f93",
   "metadata": {},
   "source": [
    "## Задание 2.5"
   ]
  },
  {
   "cell_type": "code",
   "execution_count": null,
   "id": "dff14633",
   "metadata": {},
   "outputs": [],
   "source": [
    "#Исключите из данных сильно коррелированные между собой факторы."
   ]
  },
  {
   "cell_type": "code",
   "execution_count": null,
   "id": "39d1ba63",
   "metadata": {},
   "outputs": [],
   "source": [
    "#Постройте линейную регрессию на обновлённых после удаления факторов данных по методу наименьших квадратов. "
   ]
  },
  {
   "cell_type": "code",
   "execution_count": null,
   "id": "0221bdd4",
   "metadata": {},
   "outputs": [],
   "source": [
    "# Сделайте прогноз для всего обучающего набора данных и рассчитайте метрику MAPE (Mean Absolute Percentage Error)."
   ]
  },
  {
   "cell_type": "markdown",
   "id": "7237eeb2",
   "metadata": {},
   "source": [
    "## Задание 3.1"
   ]
  },
  {
   "cell_type": "code",
   "execution_count": null,
   "id": "df24f446",
   "metadata": {},
   "outputs": [],
   "source": [
    "#Сгенерируйте полиномиальные признаки третьего порядка на факторах, которые вы выбрали для обучения моделей"
   ]
  },
  {
   "cell_type": "code",
   "execution_count": null,
   "id": "2c519843",
   "metadata": {},
   "outputs": [],
   "source": [
    "#Обучите модель линейной регрессии из библиотеки sklearn (LinearRegression) на полученных полиномиальных факторах."
   ]
  },
  {
   "cell_type": "code",
   "execution_count": null,
   "id": "a97c954b",
   "metadata": {},
   "outputs": [],
   "source": [
    "#Оцените среднее значение метрики MAPE, используя кросс-валидацию на пяти фолдах."
   ]
  },
  {
   "cell_type": "markdown",
   "id": "0180433f",
   "metadata": {},
   "source": [
    "## Задание 3.2"
   ]
  },
  {
   "cell_type": "code",
   "execution_count": 4,
   "id": "bb4c1aa9",
   "metadata": {},
   "outputs": [],
   "source": [
    "# Обучите модель Lasso из библиотеки sklearn на полученных полиномиальных факторах, предварительно стандартизировав факторы с помощью StandardScaler. Коэффициент регуляризации выставите равным 5.\n",
    "\n",
    "#Оцените среднее значение метрики MAPE, используя кросс-валидацию на пяти фолдах."
   ]
  },
  {
   "cell_type": "markdown",
   "id": "74c83404",
   "metadata": {},
   "source": [
    "## Задание 3.3"
   ]
  },
  {
   "cell_type": "code",
   "execution_count": null,
   "id": "9e0bed7a",
   "metadata": {},
   "outputs": [],
   "source": [
    "#Обучите модель Ridge из библиотеки sklearn на полученных полиномиальных факторах, предварительно стандартизировав факторы с помощью StandardScaler. Коэффициент регуляризации выставите равным 1.\n",
    "\n",
    "#Оцените среднее значение метрики MAPE, используя кросс-валидацию на пяти фолдах."
   ]
  }
 ],
 "metadata": {
  "kernelspec": {
   "display_name": "Python 3 (ipykernel)",
   "language": "python",
   "name": "python3"
  },
  "language_info": {
   "codemirror_mode": {
    "name": "ipython",
    "version": 3
   },
   "file_extension": ".py",
   "mimetype": "text/x-python",
   "name": "python",
   "nbconvert_exporter": "python",
   "pygments_lexer": "ipython3",
   "version": "3.9.12"
  }
 },
 "nbformat": 4,
 "nbformat_minor": 5
}
